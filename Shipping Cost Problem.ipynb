{
 "cells": [
  {
   "cell_type": "code",
   "execution_count": 3,
   "id": "c4488782",
   "metadata": {},
   "outputs": [],
   "source": [
    "import random"
   ]
  },
  {
   "cell_type": "code",
   "execution_count": 11,
   "id": "d01ba3dd",
   "metadata": {},
   "outputs": [
    {
     "name": "stdout",
     "output_type": "stream",
     "text": [
      "What is the weight of the package in lb?40\n",
      "Package weight is:  40.0 lb\n"
     ]
    }
   ],
   "source": [
    "#weight = random.randint(1,30)\n",
    "weight = float(input(\"What is the weight of the package in lb?\"))\n",
    "print(\"Package weight is: \",weight, \"lb\")"
   ]
  },
  {
   "cell_type": "code",
   "execution_count": 12,
   "id": "b98ece44",
   "metadata": {},
   "outputs": [
    {
     "name": "stdout",
     "output_type": "stream",
     "text": [
      "Ground shipping cost is: 210.0\n"
     ]
    }
   ],
   "source": [
    "#Ground Shipping\n",
    "if weight <= 2:\n",
    "  cost = weight*1.5 + 20\n",
    "elif weight <= 6:\n",
    "  cost = weight*3 + 20\n",
    "elif weight <= 10:\n",
    "  cost = weight*4 + 20\n",
    "else:\n",
    "  cost = weight*4.75 + 20\n",
    "print(\"Ground shipping cost is:\",cost)"
   ]
  },
  {
   "cell_type": "code",
   "execution_count": 13,
   "id": "030c4d3e",
   "metadata": {},
   "outputs": [
    {
     "name": "stdout",
     "output_type": "stream",
     "text": [
      "Premium ground shipping cost is: 125\n"
     ]
    }
   ],
   "source": [
    "#Premium Ground Shipping\n",
    "premium_cost = 125\n",
    "print(\"Premium ground shipping cost is:\",premium_cost)"
   ]
  },
  {
   "cell_type": "code",
   "execution_count": 14,
   "id": "f12d0b2d",
   "metadata": {},
   "outputs": [
    {
     "name": "stdout",
     "output_type": "stream",
     "text": [
      "Drone shipping cost is: 570.0\n"
     ]
    }
   ],
   "source": [
    "#Drone Shipping\n",
    "if weight <= 2:\n",
    "  dcost = weight*4.5\n",
    "elif weight <= 6:\n",
    "  dcost = weight*9\n",
    "elif weight <= 10:\n",
    "  dcost = weight*12\n",
    "else:\n",
    "  dcost = weight*14.25\n",
    "print(\"Drone shipping cost is:\",dcost)"
   ]
  },
  {
   "cell_type": "code",
   "execution_count": null,
   "id": "97998006",
   "metadata": {},
   "outputs": [],
   "source": []
  },
  {
   "cell_type": "code",
   "execution_count": null,
   "id": "e9a89455",
   "metadata": {},
   "outputs": [],
   "source": []
  }
 ],
 "metadata": {
  "kernelspec": {
   "display_name": "Python 3 (ipykernel)",
   "language": "python",
   "name": "python3"
  },
  "language_info": {
   "codemirror_mode": {
    "name": "ipython",
    "version": 3
   },
   "file_extension": ".py",
   "mimetype": "text/x-python",
   "name": "python",
   "nbconvert_exporter": "python",
   "pygments_lexer": "ipython3",
   "version": "3.10.9"
  }
 },
 "nbformat": 4,
 "nbformat_minor": 5
}
