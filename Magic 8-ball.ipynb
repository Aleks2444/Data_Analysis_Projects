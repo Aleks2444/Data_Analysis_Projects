{
 "cells": [
  {
   "cell_type": "code",
   "execution_count": 1,
   "id": "4ecade2a",
   "metadata": {},
   "outputs": [],
   "source": [
    "import random\n"
   ]
  },
  {
   "cell_type": "code",
   "execution_count": 2,
   "id": "13e46fd6",
   "metadata": {},
   "outputs": [
    {
     "name": "stdout",
     "output_type": "stream",
     "text": [
      "What is your name? Aleks\n",
      "What yes/no question would you like 8-ball to answer? Will it rain today?\n"
     ]
    }
   ],
   "source": [
    "#Gather input for user's name and their question\n",
    "name = input(\"What is your name? \")\n",
    "question = input(\"What yes/no question would you like 8-ball to answer? \")\n",
    "#Define a variable that will contain the answer based on random choice\n",
    "answer = \"\"\n",
    "#Choose a random number\n",
    "random_number = random.randint(1,9)"
   ]
  },
  {
   "cell_type": "code",
   "execution_count": 4,
   "id": "b455f9d5",
   "metadata": {},
   "outputs": [
    {
     "name": "stdout",
     "output_type": "stream",
     "text": [
      "Aleks  asks:  Will it rain today?\n",
      "Magic 8-ball's answer:  Very doubtful\n"
     ]
    }
   ],
   "source": [
    "#Using\n",
    "if random_number == 1:\n",
    "  answer = \"Yes deinitely\"\n",
    "elif random_number == 2:\n",
    "  answer = \"It is decidedly so\"\n",
    "elif random_number == 3:\n",
    "  answer = \"Without a doubt\"\n",
    "elif random_number == 4:\n",
    "  answer = \"Reply hazy, try again\"\n",
    "elif random_number == 5:\n",
    "  answer = \"Ask again later\"\n",
    "elif random_number == 6:\n",
    "  answer = \"Better not tell you now\"\n",
    "elif random_number == 7:\n",
    "  answer = \"My sources say no\"\n",
    "elif random_number == 8:\n",
    "  answer = \"Outlook not so good\"\n",
    "elif random_number == 9:\n",
    "  answer = \"Very doubtful\"\n",
    "else:\n",
    "  answer = \"Error\"\n",
    "if question == \"\":\n",
    "  print(\"input a questions\")\n",
    "else:\n",
    "  if name == \"\":\n",
    "   print(\"The question is: \",question)\n",
    "   print(\"Magic 8-ball's answer: \",answer)\n",
    "  else:\n",
    "   print(name,\" asks: \",question)\n",
    "   print(\"Magic 8-ball's answer: \",answer)"
   ]
  },
  {
   "cell_type": "code",
   "execution_count": null,
   "id": "9b096a25",
   "metadata": {},
   "outputs": [],
   "source": []
  },
  {
   "cell_type": "code",
   "execution_count": null,
   "id": "84513338",
   "metadata": {},
   "outputs": [],
   "source": []
  }
 ],
 "metadata": {
  "kernelspec": {
   "display_name": "Python 3 (ipykernel)",
   "language": "python",
   "name": "python3"
  },
  "language_info": {
   "codemirror_mode": {
    "name": "ipython",
    "version": 3
   },
   "file_extension": ".py",
   "mimetype": "text/x-python",
   "name": "python",
   "nbconvert_exporter": "python",
   "pygments_lexer": "ipython3",
   "version": "3.10.9"
  }
 },
 "nbformat": 4,
 "nbformat_minor": 5
}
